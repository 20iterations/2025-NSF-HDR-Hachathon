{
  "cells": [
    {
      "cell_type": "markdown",
      "metadata": {
        "id": "hhKWhHvBWFps"
      },
      "source": [
        "## Load in the dataset CSV"
      ]
    },
    {
      "cell_type": "markdown",
      "metadata": {
        "id": "oUeSZggWWFpv"
      },
      "source": [
        "## Make one column with classification\n",
        "\n",
        "This is the subspecies (which may is a mix of two for some specimens, the hybrids); this is for coloring the distribution plot by hybrid status and showing all together."
      ]
    },
    {
      "cell_type": "markdown",
      "metadata": {
        "id": "4i8ZwABvWFpw"
      },
      "source": [
        "## Get distribution of images by subspecies (colored by hybrid status)"
      ]
    },
    {
      "cell_type": "markdown",
      "metadata": {
        "id": "E6q3GxbfWFpw"
      },
      "source": [
        "## Start here"
      ]
    },
    {
      "cell_type": "code",
      "execution_count": null,
      "metadata": {
        "colab": {
          "base_uri": "https://localhost:8080/"
        },
        "id": "ICkNWMVrXTKz",
        "outputId": "11cfe129-3606-428a-8556-bb05091a6ad1"
      },
      "outputs": [
        {
          "output_type": "stream",
          "name": "stdout",
          "text": [
            "/content/drive/MyDrive/fine_tune/CWL/Hackathon-Butterfly-Hybrid-Detection-Main-20250130T134851Z-001/Hackathon-Butterfly-Hybrid-Detection-Main/DINO_notebook\n"
          ]
        }
      ],
      "source": [
        "import os\n",
        "print(os.getcwd())"
      ]
    },
    {
      "cell_type": "code",
      "execution_count": null,
      "metadata": {
        "colab": {
          "base_uri": "https://localhost:8080/"
        },
        "id": "0zl1A6SMhPnN",
        "outputId": "1008e84e-1487-4a3e-fbd6-d7f02c25d8d8"
      },
      "outputs": [
        {
          "output_type": "stream",
          "name": "stdout",
          "text": [
            "Drive already mounted at /content/drive; to attempt to forcibly remount, call drive.mount(\"/content/drive\", force_remount=True).\n"
          ]
        }
      ],
      "source": [
        "from google.colab import drive\n",
        "drive.mount('/content/drive')"
      ]
    },
    {
      "cell_type": "code",
      "execution_count": null,
      "metadata": {
        "colab": {
          "base_uri": "https://localhost:8080/"
        },
        "id": "wjGRRzE9XZKo",
        "outputId": "685113cf-9131-40f8-b058-e9c04559f50f"
      },
      "outputs": [
        {
          "output_type": "stream",
          "name": "stdout",
          "text": [
            "/content/drive/MyDrive/fine_tune/CWL/Hackathon-Butterfly-Hybrid-Detection-Main-20250130T134851Z-001/Hackathon-Butterfly-Hybrid-Detection-Main/DINO_notebook\n"
          ]
        }
      ],
      "source": [
        "os.chdir('/content/drive/MyDrive/fine_tune/CWL/Hackathon-Butterfly-Hybrid-Detection-Main-20250130T134851Z-001/Hackathon-Butterfly-Hybrid-Detection-Main/DINO_notebook')\n",
        "print(os.getcwd())"
      ]
    },
    {
      "cell_type": "code",
      "execution_count": null,
      "metadata": {
        "colab": {
          "base_uri": "https://localhost:8080/"
        },
        "id": "L-qNdiQxXe8e",
        "outputId": "8a3c213f-5ca7-4be6-e4a9-1720e5af52d4"
      },
      "outputs": [
        {
          "output_type": "stream",
          "name": "stdout",
          "text": [
            "['model_utils.py', 'dataset.py', 'classifier.py', 'evaluation.py', '__pycache__', 'training.py', 'data_utils.py', 'fine_tune.py', '.ipynb_checkpoints']\n",
            "/content/drive/MyDrive/fine_tune/CWL/Hackathon-Butterfly-Hybrid-Detection-Main-20250130T134851Z-001/Hackathon-Butterfly-Hybrid-Detection-Main/DINO_notebook\n"
          ]
        }
      ],
      "source": [
        "import os\n",
        "print(os.listdir('../DINO_train'))\n",
        "print(os.getcwd())"
      ]
    },
    {
      "cell_type": "markdown",
      "metadata": {
        "id": "unXBq57CWFpw"
      },
      "source": [
        "## Import training requirements"
      ]
    },
    {
      "cell_type": "code",
      "execution_count": null,
      "metadata": {
        "id": "4I-BycreWFpx"
      },
      "outputs": [],
      "source": [
        "import torch\n",
        "import sys\n",
        "import os\n",
        "import csv\n",
        "from pathlib import Path\n",
        "# Add your path of library\n",
        "sys.path.append('../DINO_train')\n",
        "import training"
      ]
    },
    {
      "cell_type": "markdown",
      "metadata": {
        "id": "e__bgLtyWFpy"
      },
      "source": []
    },
    {
      "cell_type": "code",
      "execution_count": null,
      "metadata": {
        "colab": {
          "base_uri": "https://localhost:8080/"
        },
        "id": "SDxOEtPqBNrd",
        "outputId": "46bd419e-4ccc-4065-fd34-c31aadb16ab3"
      },
      "outputs": [
        {
          "output_type": "execute_result",
          "data": {
            "text/plain": [
              "<module 'training' from '/content/drive/MyDrive/fine_tune/CWL/Hackathon-Butterfly-Hybrid-Detection-Main-20250130T134851Z-001/Hackathon-Butterfly-Hybrid-Detection-Main/DINO_notebook/../DINO_train/training.py'>"
            ]
          },
          "metadata": {},
          "execution_count": 114
        }
      ],
      "source": [
        "import importlib\n",
        "import training  # 替換為你的模組名稱\n",
        "\n",
        "importlib.reload(training)"
      ]
    },
    {
      "cell_type": "code",
      "execution_count": null,
      "metadata": {
        "colab": {
          "base_uri": "https://localhost:8080/"
        },
        "id": "xZDdrVwSBObi",
        "outputId": "4e4fa152-185b-4ae6-a17f-48392083a435"
      },
      "outputs": [
        {
          "output_type": "execute_result",
          "data": {
            "text/plain": [
              "<module 'data_utils' from '/content/drive/MyDrive/fine_tune/CWL/Hackathon-Butterfly-Hybrid-Detection-Main-20250130T134851Z-001/Hackathon-Butterfly-Hybrid-Detection-Main/DINO_notebook/../DINO_train/data_utils.py'>"
            ]
          },
          "metadata": {},
          "execution_count": 115
        }
      ],
      "source": [
        "import data_utils  # 替換為你的模組名稱\n",
        "\n",
        "importlib.reload(data_utils)"
      ]
    },
    {
      "cell_type": "markdown",
      "metadata": {
        "id": "wHO8bK31WFp0"
      },
      "source": [
        "## Model setup\n"
      ]
    },
    {
      "cell_type": "code",
      "execution_count": null,
      "metadata": {
        "colab": {
          "base_uri": "https://localhost:8080/"
        },
        "id": "uhIGeK4-WFp0",
        "outputId": "845b7c40-450c-41a2-9a07-6ee116104030"
      },
      "outputs": [
        {
          "output_type": "stream",
          "name": "stdout",
          "text": [
            "cuda\n",
            "<class 'transformers.models.dinov2.modeling_dinov2.Dinov2Model'>\n"
          ]
        }
      ],
      "source": [
        "training.DEVICE='cuda' if torch.cuda.is_available() else 'cpu'\n",
        "model = training.get_dino_model(dino_name='facebook/dinov2-base').to(training.DEVICE)\n",
        "training.BATCH_SIZE = 4\n",
        "\n",
        "# Location to save checkpoints and results\n",
        "training.CLF_SAVE_DIR = Path('./trained_clfs')\n",
        "os.makedirs(training.CLF_SAVE_DIR, exist_ok=True)\n",
        "print(training.DEVICE)\n",
        "# print(model)\n",
        "print(type(model))\n"
      ]
    },
    {
      "cell_type": "markdown",
      "metadata": {
        "id": "gLz54rO2WFp0"
      },
      "source": [
        "## Start training"
      ]
    },
    {
      "cell_type": "code",
      "execution_count": null,
      "metadata": {
        "id": "ufEkhP4Eikmf"
      },
      "outputs": [],
      "source": [
        "img_path = \"/content/drive/MyDrive/CWL_butterfly/Hackathon-Butterfly-Hybrid-Detection-main/Hackathon-Butterfly-Hybrid-Detection-main/input_data/New_both2\"\n",
        "data_path = \"/content/drive/MyDrive/CWL_butterfly/Hackathon-Butterfly-Hybrid-Detection-main/Hackathon-Butterfly-Hybrid-Detection-main/input_data/0130_final.csv\""
      ]
    },
    {
      "cell_type": "code",
      "execution_count": null,
      "metadata": {
        "colab": {
          "base_uri": "https://localhost:8080/"
        },
        "id": "HssT4upQlQqr",
        "outputId": "af17c12e-94ca-4ef9-96e2-4ba28696d83d"
      },
      "outputs": [
        {
          "output_type": "stream",
          "name": "stderr",
          "text": [
            "Filtering bad urls: 1824it [00:07, 251.89it/s]"
          ]
        },
        {
          "output_type": "stream",
          "name": "stdout",
          "text": [
            "Bad rows: 0\n"
          ]
        },
        {
          "output_type": "stream",
          "name": "stderr",
          "text": [
            "\n"
          ]
        }
      ],
      "source": [
        "train_data, test_data = training.load_data(data_path, img_path, test_size=0.2)"
      ]
    },
    {
      "cell_type": "code",
      "execution_count": null,
      "metadata": {
        "colab": {
          "base_uri": "https://localhost:8080/"
        },
        "id": "xuncSHeSCoir",
        "outputId": "97274bb7-9178-45b3-80f4-7a561354bef4"
      },
      "outputs": [
        {
          "output_type": "execute_result",
          "data": {
            "text/plain": [
              "<module 'training' from '/content/drive/MyDrive/fine_tune/CWL/Hackathon-Butterfly-Hybrid-Detection-Main-20250130T134851Z-001/Hackathon-Butterfly-Hybrid-Detection-Main/DINO_notebook/../DINO_train/training.py'>"
            ]
          },
          "metadata": {},
          "execution_count": 119
        }
      ],
      "source": [
        "import importlib\n",
        "import training  # 替換為你的模組名稱\n",
        "\n",
        "importlib.reload(training)"
      ]
    },
    {
      "cell_type": "code",
      "execution_count": null,
      "metadata": {
        "colab": {
          "base_uri": "https://localhost:8080/"
        },
        "id": "1CUK5sjXLxzW",
        "outputId": "f66ca110-fd1d-44a1-f598-31186e60a4a0"
      },
      "outputs": [
        {
          "output_type": "execute_result",
          "data": {
            "text/plain": [
              "<module 'classifier' from '/content/drive/MyDrive/fine_tune/CWL/Hackathon-Butterfly-Hybrid-Detection-Main-20250130T134851Z-001/Hackathon-Butterfly-Hybrid-Detection-Main/DINO_notebook/../DINO_train/classifier.py'>"
            ]
          },
          "metadata": {},
          "execution_count": 120
        }
      ],
      "source": [
        "import classifier\n",
        "importlib.reload(classifier)"
      ]
    },
    {
      "cell_type": "code",
      "source": [
        "import data_utils\n",
        "importlib.reload(data_utils)"
      ],
      "metadata": {
        "colab": {
          "base_uri": "https://localhost:8080/"
        },
        "id": "qLGfC7fBzBZ8",
        "outputId": "eb13d122-6c13-46e7-f36c-c52f563a60c3"
      },
      "execution_count": null,
      "outputs": [
        {
          "output_type": "execute_result",
          "data": {
            "text/plain": [
              "<module 'data_utils' from '/content/drive/MyDrive/fine_tune/CWL/Hackathon-Butterfly-Hybrid-Detection-Main-20250130T134851Z-001/Hackathon-Butterfly-Hybrid-Detection-Main/DINO_notebook/../DINO_train/data_utils.py'>"
            ]
          },
          "metadata": {},
          "execution_count": 121
        }
      ]
    },
    {
      "cell_type": "code",
      "source": [
        "import dataset\n",
        "importlib.reload(dataset)"
      ],
      "metadata": {
        "colab": {
          "base_uri": "https://localhost:8080/"
        },
        "id": "cgVAJAjy2JXN",
        "outputId": "c7a702b8-2323-47b3-ee40-6c190f3014a6"
      },
      "execution_count": null,
      "outputs": [
        {
          "output_type": "execute_result",
          "data": {
            "text/plain": [
              "<module 'dataset' from '/content/drive/MyDrive/fine_tune/CWL/Hackathon-Butterfly-Hybrid-Detection-Main-20250130T134851Z-001/Hackathon-Butterfly-Hybrid-Detection-Main/DINO_notebook/../DINO_train/dataset.py'>"
            ]
          },
          "metadata": {},
          "execution_count": 122
        }
      ]
    },
    {
      "cell_type": "code",
      "execution_count": null,
      "metadata": {
        "colab": {
          "base_uri": "https://localhost:8080/"
        },
        "id": "dTs-yBIZWFp1",
        "outputId": "92b2676e-9601-4b42-f291-e4b1700d0dd4"
      },
      "outputs": [
        {
          "output_type": "stream",
          "name": "stdout",
          "text": [
            "Created base dataset with 1459 samples\n",
            "Created base dataset with 365 samples\n",
            "Compose(\n",
            "    Resize(size=(224, 224), interpolation=bilinear, max_size=None, antialias=True)\n",
            "    RandomApply(\n",
            "    p=0.5\n",
            "    ColorJitter(brightness=(0.7, 1.3), contrast=(0.7, 1.3), saturation=(0.7, 1.3), hue=(-0.1, 0.1))\n",
            ")\n",
            "    RandomRotation(degrees=[-10.0, 10.0], interpolation=nearest, expand=False, fill=0)\n",
            "    RandomHorizontalFlip(p=0.5)\n",
            "    Lambda()\n",
            "    ToTensor()\n",
            "    Normalize(mean=[0.485, 0.456, 0.406], std=[0.229, 0.224, 0.225])\n",
            ")\n"
          ]
        },
        {
          "output_type": "stream",
          "name": "stderr",
          "text": [
            "/usr/local/lib/python3.11/dist-packages/torch/utils/data/dataloader.py:617: UserWarning: This DataLoader will create 8 worker processes in total. Our suggested max number of worker in current system is 2, which is smaller than what this DataLoader is going to create. Please be aware that excessive worker creation might get DataLoader running slow or even freeze, lower the worker number to avoid potential slowness/freeze if necessary.\n",
            "  warnings.warn(\n",
            "/usr/local/lib/python3.11/dist-packages/torch/utils/data/dataloader.py:617: UserWarning: This DataLoader will create 8 worker processes in total. Our suggested max number of worker in current system is 2, which is smaller than what this DataLoader is going to create. Please be aware that excessive worker creation might get DataLoader running slow or even freeze, lower the worker number to avoid potential slowness/freeze if necessary.\n",
            "  warnings.warn(\n"
          ]
        }
      ],
      "source": [
        "# Create dataloader\n",
        "tr_sig_dloader, test_dl = training.prepare_data_loaders(train_data, test_data, img_path)\n",
        "print(training.data_transforms())"
      ]
    },
    {
      "cell_type": "code",
      "execution_count": null,
      "metadata": {
        "colab": {
          "base_uri": "https://localhost:8080/"
        },
        "id": "RmTJsha0WFp1",
        "outputId": "0b4910c3-a8b8-4c16-be04-06e0fc6c48e9"
      },
      "outputs": [
        {
          "output_type": "stream",
          "name": "stderr",
          "text": [
            "Extracting features: 100%|██████████| 365/365 [08:44<00:00,  1.44s/it]\n",
            "Extracting features: 100%|██████████| 92/92 [02:07<00:00,  1.38s/it]"
          ]
        },
        {
          "output_type": "stream",
          "name": "stdout",
          "text": [
            "[[-3.590167    1.0381408  -2.4874203  ... -0.73921764 -0.61626506\n",
            "   0.01347281]\n",
            " [-1.8695996   0.48228502 -3.6843662  ... -1.0912731  -0.8381891\n",
            "  -0.56001115]\n",
            " [-3.9477394   1.032649   -2.8307102  ... -0.5798567  -0.5941294\n",
            "  -0.58015746]\n",
            " ...\n",
            " [-2.3476636   0.32665512 -2.1043124  ... -1.0751843  -0.65282476\n",
            "  -0.44465563]\n",
            " [-3.9014523  -0.6913454  -1.9329932  ... -1.0465872  -1.1669434\n",
            "  -0.05950663]\n",
            " [-1.4707919   1.2509     -2.3430572  ... -0.83313364 -0.38270462\n",
            "  -0.43783084]]\n"
          ]
        },
        {
          "output_type": "stream",
          "name": "stderr",
          "text": [
            "\n"
          ]
        }
      ],
      "source": [
        "# Extract visual features from model\n",
        "try:\n",
        "    tr_features, tr_labels, test_features, test_labels = training.extract_features(tr_sig_dloader, test_dl, model)\n",
        "    print(tr_features)\n",
        "except Exception as e:\n",
        "    print(\"Error in extracting features\")\n",
        "    print(e)"
      ]
    },
    {
      "cell_type": "code",
      "execution_count": null,
      "metadata": {
        "colab": {
          "base_uri": "https://localhost:8080/"
        },
        "id": "xbtucqmDWFp1",
        "outputId": "23e11f5a-d21a-45e4-c42b-4a9a38d9f4ad"
      },
      "outputs": [
        {
          "output_type": "stream",
          "name": "stdout",
          "text": [
            "[[-3.590167    1.0381408  -2.4874203  ... -0.73921764 -0.61626506\n",
            "   0.01347281]\n",
            " [-1.8695996   0.48228502 -3.6843662  ... -1.0912731  -0.8381891\n",
            "  -0.56001115]\n",
            " [-3.9477394   1.032649   -2.8307102  ... -0.5798567  -0.5941294\n",
            "  -0.58015746]\n",
            " ...\n",
            " [-2.3476636   0.32665512 -2.1043124  ... -1.0751843  -0.65282476\n",
            "  -0.44465563]\n",
            " [-3.9014523  -0.6913454  -1.9329932  ... -1.0465872  -1.1669434\n",
            "  -0.05950663]\n",
            " [-1.4707919   1.2509     -2.3430572  ... -0.83313364 -0.38270462\n",
            "  -0.43783084]]\n",
            "[0 0 0 ... 0 0 0]\n",
            "[[-4.385366    0.8409648  -1.8811343  ... -1.0504885  -0.8694573\n",
            "  -0.40624627]\n",
            " [ 0.6799864  -0.06571534 -0.6935987  ... -1.3331792  -0.3479464\n",
            "  -0.18167572]\n",
            " [-3.1644666  -0.18131393 -2.4950194  ... -0.7554871  -0.57420623\n",
            "  -0.67116976]\n",
            " ...\n",
            " [-3.0317197   0.9362211  -3.3507428  ... -0.9498002  -0.41591516\n",
            "  -1.0083861 ]\n",
            " [-2.961629    0.82279193 -3.3791797  ... -1.4129974  -0.88604593\n",
            "  -0.50875   ]\n",
            " [-3.2273757   0.5677382  -1.5304294  ... -1.0315692  -1.0201578\n",
            "  -0.47204036]]\n",
            "[0 0 0 0 0 0 0 0 0 0 0 0 0 0 0 1 0 0 0 0 1 0 0 0 0 0 0 0 0 0 0 0 0 0 0 0 0\n",
            " 0 0 0 0 0 0 0 0 0 0 0 0 0 0 0 0 0 0 0 0 0 0 0 0 0 0 0 0 1 0 0 0 0 0 0 1 0\n",
            " 0 0 0 0 1 0 0 0 0 0 1 0 0 0 0 0 0 0 0 0 0 0 0 0 0 0 0 0 0 0 0 0 0 0 0 0 1\n",
            " 0 0 0 0 0 0 1 0 0 0 0 0 0 0 0 0 0 0 0 0 0 0 0 0 0 0 0 0 0 0 0 0 0 0 0 0 0\n",
            " 0 0 0 0 1 0 0 0 0 0 0 0 1 0 0 0 0 0 0 0 0 1 0 0 0 0 0 0 0 0 0 0 0 0 1 0 0\n",
            " 0 0 0 0 0 0 0 0 0 0 0 0 0 0 0 0 0 0 0 0 0 0 0 0 0 0 0 0 0 0 0 0 0 0 0 0 0\n",
            " 1 0 0 0 0 0 0 0 0 0 0 0 0 0 0 0 0 0 0 0 0 1 0 0 0 0 0 0 0 0 0 0 0 0 0 0 0\n",
            " 0 0 0 0 0 0 0 0 0 0 0 1 0 1 0 0 0 0 0 0 0 0 0 0 0 0 0 0 0 0 0 0 1 0 1 0 0\n",
            " 0 0 0 0 0 0 0 0 0 0 0 0 0 0 0 0 0 0 0 0 0 0 0 0 0 0 0 0 0 0 0 0 0 0 0 0 0\n",
            " 0 0 0 0 0 0 0 0 0 0 0 0 0 0 0 0 0 0 0 0 0 0 0 0 0 0 0 0 0 0 0 0]\n"
          ]
        }
      ],
      "source": [
        "print(tr_features)\n",
        "print(tr_labels)\n",
        "print(test_features)\n",
        "print(test_labels)"
      ]
    },
    {
      "cell_type": "code",
      "source": [
        "import importlib\n",
        "import classifier\n",
        "importlib.reload(classifier)\n",
        "importlib.reload(training)"
      ],
      "metadata": {
        "colab": {
          "base_uri": "https://localhost:8080/"
        },
        "id": "4r4aIzOrwc7r",
        "outputId": "90b0fe93-e633-4a71-b4ef-21c50b80bc90"
      },
      "execution_count": null,
      "outputs": [
        {
          "output_type": "execute_result",
          "data": {
            "text/plain": [
              "<module 'training' from '/content/drive/MyDrive/fine_tune/CWL/Hackathon-Butterfly-Hybrid-Detection-Main-20250130T134851Z-001/Hackathon-Butterfly-Hybrid-Detection-Main/DINO_notebook/../DINO_train/training.py'>"
            ]
          },
          "metadata": {},
          "execution_count": 126
        }
      ]
    },
    {
      "cell_type": "code",
      "execution_count": null,
      "metadata": {
        "colab": {
          "base_uri": "https://localhost:8080/"
        },
        "id": "hJokl_jmP6E1",
        "outputId": "149f1af3-6d56-4029-af90-2927e991c752"
      },
      "outputs": [
        {
          "output_type": "stream",
          "name": "stdout",
          "text": [
            "Training and evaluating svm...\n",
            "Saved svm classifier to /content/drive/MyDrive/fine_tune/CWL/Hackathon-Butterfly-Hybrid-Detection-Main-20250130T134851Z-001/Hackathon-Butterfly-Hybrid-Detection-Main/DINO_notebook/clffff/trained_svm_classifier.pkl\n",
            "svm: Acc - 0.9692, Hacc - 0.6800, NHacc - 0.9963\n",
            "\n",
            "          Hybrid-Recall: 0.8333333333333334\n",
            "          Hybrid-Precision: 0.46875\n",
            "          f1-Score: 0.6\n",
            "          ROC AUC: 0.8921709894332374\n",
            "          Accuracy: 0.9452054794520548\n",
            "          \n",
            "Training and evaluating sgd...\n",
            "Saved sgd classifier to /content/drive/MyDrive/fine_tune/CWL/Hackathon-Butterfly-Hybrid-Detection-Main-20250130T134851Z-001/Hackathon-Butterfly-Hybrid-Detection-Main/DINO_notebook/clffff/trained_sgd_classifier.pkl\n",
            "sgd: Acc - 0.9589, Hacc - 0.5200, NHacc - 1.0000\n",
            "\n",
            "          Hybrid-Recall: 1.0\n",
            "          Hybrid-Precision: 0.5142857142857142\n",
            "          f1-Score: 0.6792452830188679\n",
            "          ROC AUC: 0.9755043227665706\n",
            "          Accuracy: 0.9534246575342465\n",
            "          \n",
            "Training and evaluating knn...\n",
            "Saved knn classifier to /content/drive/MyDrive/fine_tune/CWL/Hackathon-Butterfly-Hybrid-Detection-Main-20250130T134851Z-001/Hackathon-Butterfly-Hybrid-Detection-Main/DINO_notebook/clffff/trained_knn_classifier.pkl\n",
            "knn: Acc - 0.9349, Hacc - 0.2800, NHacc - 0.9963\n",
            "\n",
            "          Hybrid-Recall: 0.3888888888888889\n",
            "          Hybrid-Precision: 0.2916666666666667\n",
            "          f1-Score: 0.3333333333333333\n",
            "          ROC AUC: 0.669948767211015\n",
            "          Accuracy: 0.9232876712328767\n",
            "          \n",
            "Training and evaluating One-Class SVM...\n",
            "One-Class SVM evaluation:\n",
            "\n",
            "          Hybrid-Recall: 0.0\n",
            "          Hybrid-Precision: 0.0\n",
            "          f1-Score: 0.0\n",
            "          ROC AUC: 0.4755043227665706\n",
            "          Accuracy: 0.9041095890410958\n",
            "          \n"
          ]
        }
      ],
      "source": [
        "csv_output, score_output, scores_dict = training.train_and_evaluate(tr_features, tr_labels, test_features, test_labels)\n"
      ]
    },
    {
      "cell_type": "code",
      "execution_count": null,
      "metadata": {
        "id": "gb2FUhhzWFp2"
      },
      "outputs": [],
      "source": [
        "# Save evaluation results\n",
        "csv_filename = training.CLF_SAVE_DIR / \"classifier_evaluation_results.csv\"\n",
        "with open(csv_filename, mode='w', newline='') as file:\n",
        "    writer = csv.writer(file)\n",
        "    writer.writerow([\"Configuration\", \"AUC\", \"Precision\", \"Recall\", \"F1-score\"])\n",
        "    writer.writerows(csv_output)\n",
        "\n",
        "# Save individual scores\n",
        "scores_filename = training.CLF_SAVE_DIR / \"classifier_scores.csv\"\n",
        "with open(scores_filename, mode='w', newline='') as score_file:\n",
        "    score_writer = csv.writer(score_file)\n",
        "    score_writer.writerow([\"Index\", \"Score\", \"True Label\"])\n",
        "    score_writer.writerows(score_output)"
      ]
    },
    {
      "cell_type": "code",
      "execution_count": null,
      "metadata": {
        "id": "K_KSanZFWFp2"
      },
      "outputs": [],
      "source": []
    }
  ],
  "metadata": {
    "accelerator": "GPU",
    "colab": {
      "gpuType": "T4",
      "provenance": []
    },
    "kernelspec": {
      "display_name": "Python 3",
      "name": "python3"
    },
    "language_info": {
      "codemirror_mode": {
        "name": "ipython",
        "version": 3
      },
      "file_extension": ".py",
      "mimetype": "text/x-python",
      "name": "python",
      "nbconvert_exporter": "python",
      "pygments_lexer": "ipython3",
      "version": "3.10.16"
    }
  },
  "nbformat": 4,
  "nbformat_minor": 0
}